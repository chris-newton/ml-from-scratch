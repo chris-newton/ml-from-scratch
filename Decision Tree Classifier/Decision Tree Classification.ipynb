{
 "cells": [
  {
   "cell_type": "code",
   "execution_count": 1,
   "id": "0ea9ab06-4fc2-4e43-9d8e-ee4eb8e56a9f",
   "metadata": {},
   "outputs": [],
   "source": [
    "import numpy as np\n",
    "import pandas as pd"
   ]
  },
  {
   "cell_type": "markdown",
   "id": "9ef804c1-ced3-415e-b53d-34e4ad971654",
   "metadata": {},
   "source": [
    "# The DecisionTreeClassifier Class"
   ]
  },
  {
   "cell_type": "markdown",
   "id": "f1a834de-a28d-4b9b-b0eb-1761f5342bad",
   "metadata": {},
   "source": [
    "A from-scratch implementation of the classic decision tree algorithm with options for minimum sample split, maximum tree depth,\n",
    "and information gain metric (entropy or gini value)"
   ]
  },
  {
   "cell_type": "code",
   "execution_count": 2,
   "id": "1a27bd99-a44e-4f12-8358-1d88b2c8c9a1",
   "metadata": {},
   "outputs": [],
   "source": [
    "from Decision_Tree_Classifier import DecisionTreeClassifier "
   ]
  },
  {
   "cell_type": "markdown",
   "id": "1a590aef-7656-44f2-9aa5-6e1f1fe66348",
   "metadata": {},
   "source": [
    "# Iris Dataset"
   ]
  },
  {
   "cell_type": "code",
   "execution_count": 3,
   "id": "f23d0ccb-8fe0-4c87-a73e-d4a8b66e55bf",
   "metadata": {},
   "outputs": [],
   "source": [
    "import sklearn.datasets\n",
    "features = ['sepal length (cm)',\n",
    " 'sepal width (cm)',\n",
    " 'petal length (cm)',\n",
    " 'petal width (cm)']\n",
    "data = sklearn.datasets.load_iris(as_frame=True)\n",
    "iris_df = data.frame"
   ]
  },
  {
   "cell_type": "code",
   "execution_count": 4,
   "id": "d132926b-ed89-4e9f-928b-fd20250fd000",
   "metadata": {},
   "outputs": [],
   "source": [
    "from sklearn.model_selection import train_test_split\n",
    "X, y = iris_df.iloc[:,:-1], iris_df.iloc[:,-1:]\n",
    "X_train, X_test, y_train, y_test = train_test_split(X, y, test_size=.3)"
   ]
  },
  {
   "cell_type": "code",
   "execution_count": 5,
   "id": "c544c836-e54b-4462-8df4-c8de99b153c5",
   "metadata": {
    "scrolled": true
   },
   "outputs": [
    {
     "name": "stdout",
     "output_type": "stream",
     "text": [
      "X_2 <= 1.9 ? 0.8870341576828726\n",
      " left:0.0\n",
      " right:X_2 <= 4.8 ? 0.7027054357789813\n",
      "  left:X_3 <= 1.6 ? 0.313061576783748\n",
      "    left:1.0\n",
      "    right:X_1 <= 3.0 ? 0.8112781244591328\n",
      "        left:2.0\n",
      "        right:1.0\n",
      "  right:X_3 <= 1.7 ? 0.08404367188929926\n",
      "    left:X_3 <= 1.6 ? 0.7219280948873623\n",
      "        left:2.0\n",
      "        right:1.0\n",
      "    right:2.0\n"
     ]
    }
   ],
   "source": [
    "dt_model = DecisionTreeClassifier(min_samples_split=3, max_depth=3, info_method=\"entropy\")\n",
    "dt_model.fit(X_train, y_train)\n",
    "dt_model.print_tree()"
   ]
  },
  {
   "cell_type": "code",
   "execution_count": 6,
   "id": "91861ea5-06a3-4cb3-833a-1fe2d6cd3ae2",
   "metadata": {},
   "outputs": [
    {
     "name": "stdout",
     "output_type": "stream",
     "text": [
      "0.9333333333333333\n"
     ]
    }
   ],
   "source": [
    "y_pred = dt_model.predict(X_test) \n",
    "from sklearn.metrics import accuracy_score\n",
    "print(accuracy_score(y_pred, y_test))"
   ]
  }
 ],
 "metadata": {
  "kernelspec": {
   "display_name": "Python 3 (ipykernel)",
   "language": "python",
   "name": "python3"
  },
  "language_info": {
   "codemirror_mode": {
    "name": "ipython",
    "version": 3
   },
   "file_extension": ".py",
   "mimetype": "text/x-python",
   "name": "python",
   "nbconvert_exporter": "python",
   "pygments_lexer": "ipython3",
   "version": "3.10.12"
  }
 },
 "nbformat": 4,
 "nbformat_minor": 5
}
