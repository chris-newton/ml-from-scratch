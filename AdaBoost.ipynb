{
 "cells": [
  {
   "cell_type": "code",
   "execution_count": 1,
   "id": "51b84ab6-7521-426c-aa7f-2e733cdac9bb",
   "metadata": {},
   "outputs": [],
   "source": [
    "import numpy as np\n",
    "import pandas as pd\n",
    "from Decision_Tree_Classifier import DecisionTreeClassifier"
   ]
  },
  {
   "cell_type": "markdown",
   "id": "9ead8acf-f80b-4ac7-b407-3284e069db10",
   "metadata": {},
   "source": [
    "## The AdaBoost Class"
   ]
  },
  {
   "cell_type": "code",
   "execution_count": 2,
   "id": "2c7934f5-aea5-4a31-9383-a7dd14bbf5e9",
   "metadata": {},
   "outputs": [],
   "source": [
    "from AdaBoost import AdaBoostClassifier"
   ]
  },
  {
   "cell_type": "markdown",
   "id": "6b4badf0-b735-4e31-a55a-1d89b2993e18",
   "metadata": {},
   "source": [
    "### Importing Iris Dataset"
   ]
  },
  {
   "cell_type": "code",
   "execution_count": 3,
   "id": "1109dac5-b751-4254-a7de-44b77ac62fb6",
   "metadata": {},
   "outputs": [],
   "source": [
    "import sklearn.datasets\n",
    "features = ['sepal length (cm)',\n",
    " 'sepal width (cm)',\n",
    " 'petal length (cm)',\n",
    " 'petal width (cm)']\n",
    "data = sklearn.datasets.load_iris(as_frame=True)\n",
    "iris_df = data.frame"
   ]
  },
  {
   "cell_type": "code",
   "execution_count": 4,
   "id": "5db9f12e-e1b5-4ad8-afb9-f25b1868a993",
   "metadata": {},
   "outputs": [],
   "source": [
    "from sklearn.model_selection import train_test_split\n",
    "X, y = iris_df.iloc[:,:-1], iris_df.iloc[:,-1:]\n",
    "X_train, X_test, y_train, y_test = train_test_split(X, y, test_size=.3)"
   ]
  },
  {
   "cell_type": "markdown",
   "id": "6be9ea58-7967-44a3-a4cf-a8c00842cfde",
   "metadata": {},
   "source": [
    "### Testing AdaBoost"
   ]
  },
  {
   "cell_type": "code",
   "execution_count": 5,
   "id": "50e2e4a7-2090-4666-9c29-14a0331e19f3",
   "metadata": {},
   "outputs": [],
   "source": [
    "ab_model = AdaBoostClassifier(k_classifiers=10)\n",
    "ab_model.fit(X_train, y_train)"
   ]
  },
  {
   "cell_type": "code",
   "execution_count": 6,
   "id": "243c8249-4406-422c-9fba-55ce9a80d612",
   "metadata": {},
   "outputs": [],
   "source": [
    "y_preds = ab_model.predict(X_test)"
   ]
  },
  {
   "cell_type": "code",
   "execution_count": 7,
   "id": "2d645745-ec45-4342-a247-180a40f64711",
   "metadata": {},
   "outputs": [
    {
     "name": "stdout",
     "output_type": "stream",
     "text": [
      "0.9777777777777777\n"
     ]
    }
   ],
   "source": [
    "from sklearn.metrics import accuracy_score, roc_curve\n",
    "print(accuracy_score(y_preds, y_test))"
   ]
  }
 ],
 "metadata": {
  "kernelspec": {
   "display_name": "Python 3 (ipykernel)",
   "language": "python",
   "name": "python3"
  },
  "language_info": {
   "codemirror_mode": {
    "name": "ipython",
    "version": 3
   },
   "file_extension": ".py",
   "mimetype": "text/x-python",
   "name": "python",
   "nbconvert_exporter": "python",
   "pygments_lexer": "ipython3",
   "version": "3.10.12"
  }
 },
 "nbformat": 4,
 "nbformat_minor": 5
}
