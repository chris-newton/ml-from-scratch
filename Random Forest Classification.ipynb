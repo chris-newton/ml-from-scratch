{
 "cells": [
  {
   "cell_type": "code",
   "execution_count": 1,
   "id": "5e9d74c0-2a8c-4d8a-bb06-62b19252becd",
   "metadata": {},
   "outputs": [],
   "source": [
    "import numpy as np\n",
    "import pandas as pd\n",
    "from Decision_Tree_Classifier import DecisionTreeClassifier"
   ]
  },
  {
   "cell_type": "markdown",
   "id": "77ba74d3-4e7e-42bf-b713-1a497583b81c",
   "metadata": {},
   "source": [
    "### The RandomForestClassifier Class"
   ]
  },
  {
   "cell_type": "code",
   "execution_count": 2,
   "id": "cd23fef9-7107-47d2-ba2f-a04a37b8f876",
   "metadata": {},
   "outputs": [],
   "source": [
    "class RandomForestClassifier():\n",
    "    def __init__(self, min_samples_split=2, max_depth=5, n_classifiers=10, info_method=\"entropy\"):\n",
    "        self.min_samples_split = min_samples_split\n",
    "        self.max_depth = max_depth\n",
    "        self.n_classifiers = n_classifiers\n",
    "        self.info_method = info_method\n",
    "\n",
    "    def fit(self, X, y):\n",
    "        X = np.array(X)\n",
    "        y = np.array(y)\n",
    "        self.dtrees = [DecisionTreeClassifier(max_depth = self.max_depth, info_method = self.info_method) for i in range(self.n_classifiers)]\n",
    "\n",
    "        for dtree in self.dtrees:\n",
    "            X_b, y_b = self._random_sample(X, y)\n",
    "            dtree.fit(X_b, y_b) # fit dtree with bootstrapped training dataset\n",
    "            \n",
    "    def _random_sample(self, X, y):\n",
    "        ''' generate and return a new bootstrapped dataset from the training data '''\n",
    "        n_samples = X.shape[0]\n",
    "        idx = np.random.choice(n_samples, n_samples, replace=True)\n",
    "        return X[idx], y[idx]\n",
    "        \n",
    "    def predict(self, X):\n",
    "        X = np.array(X)\n",
    "        y_preds = []\n",
    "        \n",
    "        for x in X:\n",
    "            # calculate prediction of x for every dtree\n",
    "            for dtree in self.dtrees:\n",
    "                y_pred = []\n",
    "                y_pred.append(dtree.make_prediction(x, dtree.root))\n",
    "\n",
    "            # take the majority vote of the n_classifiers trees\n",
    "            modals, counts = np.unique(y_pred, return_counts=True)\n",
    "            index = np.argmax(counts)\n",
    "            y_preds.append(modals[index])\n",
    "\n",
    "        return y_preds"
   ]
  },
  {
   "cell_type": "markdown",
   "id": "43382c62-9810-4042-bfb1-37d164a3acc2",
   "metadata": {},
   "source": [
    "### Data Collection"
   ]
  },
  {
   "cell_type": "code",
   "execution_count": 56,
   "id": "1deca4b3-eaa4-4551-9a7b-c3128fe964ff",
   "metadata": {},
   "outputs": [],
   "source": [
    "import sklearn.datasets\n",
    "from sklearn.model_selection import train_test_split\n",
    "\n",
    "features = ['sepal length (cm)',\n",
    " 'sepal width (cm)',\n",
    " 'petal length (cm)',\n",
    " 'petal width (cm)']\n",
    "data = sklearn.datasets.load_iris(as_frame=True)\n",
    "iris_df = data.frame\n",
    "\n",
    "X, y = iris_df.iloc[:,:-1], iris_df.iloc[:,-1:]\n",
    "X_train, X_test, y_train, y_test = train_test_split(X, y, test_size=.2)"
   ]
  },
  {
   "cell_type": "markdown",
   "id": "be6d5768-92a5-4b92-a1ec-486e28c6996a",
   "metadata": {},
   "source": [
    "### Running the Model"
   ]
  },
  {
   "cell_type": "code",
   "execution_count": 57,
   "id": "2f900b25-f464-4490-953d-262b4f9633e7",
   "metadata": {},
   "outputs": [],
   "source": [
    "model = RandomForestClassifier(n_classifiers=10, info_method=\"gini\")\n",
    "model.fit(X_train, y_train)"
   ]
  },
  {
   "cell_type": "code",
   "execution_count": 58,
   "id": "d05ea391-52f6-4d17-a58e-c8bb21948df4",
   "metadata": {},
   "outputs": [
    {
     "name": "stdout",
     "output_type": "stream",
     "text": [
      "0.9333333333333333\n"
     ]
    }
   ],
   "source": [
    "y_preds = model.predict(X_test)\n",
    "\n",
    "from sklearn.metrics import accuracy_score\n",
    "print(accuracy_score(y_preds, y_test))"
   ]
  }
 ],
 "metadata": {
  "kernelspec": {
   "display_name": "Python 3 (ipykernel)",
   "language": "python",
   "name": "python3"
  },
  "language_info": {
   "codemirror_mode": {
    "name": "ipython",
    "version": 3
   },
   "file_extension": ".py",
   "mimetype": "text/x-python",
   "name": "python",
   "nbconvert_exporter": "python",
   "pygments_lexer": "ipython3",
   "version": "3.10.12"
  }
 },
 "nbformat": 4,
 "nbformat_minor": 5
}
