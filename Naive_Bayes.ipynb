{
 "cells": [
  {
   "cell_type": "code",
   "execution_count": 1,
   "id": "5a13d746-c50b-44e9-b4e7-45752e57457a",
   "metadata": {},
   "outputs": [],
   "source": [
    "import numpy as np\n",
    "import pandas as pd"
   ]
  },
  {
   "cell_type": "code",
   "execution_count": 2,
   "id": "2b6cd948-8775-4af5-bd0a-f4a9d710bd1c",
   "metadata": {},
   "outputs": [],
   "source": [
    "class NaiveBayesClassifier():\n",
    "    def fit(self, X, y):\n",
    "        ''' Calculate prior for each class '''\n",
    "        n_samples, n_features = X.shape\n",
    "        self._classes = np.unique(y)\n",
    "        n_classes = len(self._classes)\n",
    "        target_name = y.columns[0]\n",
    "        \n",
    "        self._means = np.zeros((n_classes, n_features-1), dtype=np.float64)\n",
    "        self._vars = np.zeros((n_classes, n_features-1), dtype=np.float64)\n",
    "        self._priors = np.zeros((n_classes), dtype=np.float64)\n",
    "\n",
    "        for idx, c in enumerate(self._classes):\n",
    "            X_c = X.query(f\"{target_name} == {c}\").drop(f\"{target_name}\", axis=1)\n",
    "            self._means[idx, :] = X_c.mean(axis=0)\n",
    "            self._vars[idx, :] = X_c.var(axis=0)\n",
    "            self._priors[idx] = X_c.shape[0] / float(n_samples)\n",
    "\n",
    "    def predict(self, X):\n",
    "        ''' Calculate posterior for each class given inputs '''\n",
    "        y_pred = [self._predict_one(x) for x in X.values] \n",
    "        return np.array(y_pred)\n",
    "        \n",
    "    def _predict_one(self, x):\n",
    "        posteriors = [] # the posterior probabilities for each class according to this datapoint (x)\n",
    "\n",
    "        # calculate the posteriors for each class on this datapoint\n",
    "        for class_idx, c in enumerate(self._classes):\n",
    "            prior = np.log(self._priors[class_idx])\n",
    "            likelihoods = self._calculate_likelihoods_gaussian(class_idx, x)\n",
    "            posterior = np.sum(np.log(likelihoods)) + prior\n",
    "            posteriors.append(posterior)\n",
    "\n",
    "        y_hat = np.argmax(posteriors)\n",
    "        return self._classes[y_hat] # return the class with the highest posterior prob\n",
    "\n",
    "    def _calculate_likelihoods_gaussian(self, class_idx, x):\n",
    "        ''' compute the likelyhoods ( P(x_0|y), P(x_1|y), ...,  P(x_n|y)) using gaussian approximation '''\n",
    "        mean = self._means[class_idx]\n",
    "        var = self._vars[class_idx]\n",
    "        numerator = np.exp(-((x - mean) ** 2) / (2 * var))\n",
    "        denominator = np.sqrt(var) * np.sqrt(2 * np.pi)\n",
    "        return numerator / denominator"
   ]
  },
  {
   "cell_type": "markdown",
   "id": "9951f6cd-69cb-42b8-81bf-ff8574b33170",
   "metadata": {},
   "source": [
    "The classic Iris classification dataset is a good example of the type of dataset that the Gaussian Naive Bayes algorithm works on. It's inputs are all numerical features."
   ]
  },
  {
   "cell_type": "code",
   "execution_count": 3,
   "id": "3dc7f020-377e-4f07-8c28-7f8a1200f2f2",
   "metadata": {
    "scrolled": true
   },
   "outputs": [],
   "source": [
    "import sklearn.datasets\n",
    "features = ['sepal length (cm)',\n",
    " 'sepal width (cm)',\n",
    " 'petal length (cm)',\n",
    " 'petal width (cm)']\n",
    "data = sklearn.datasets.load_iris(as_frame=True)\n",
    "iris_df = data.frame"
   ]
  },
  {
   "cell_type": "code",
   "execution_count": 4,
   "id": "93d71551-c865-464f-bc06-8121219d9ca2",
   "metadata": {},
   "outputs": [],
   "source": [
    "from sklearn.model_selection import train_test_split\n",
    "X, y = iris_df.iloc[:,:-1], iris_df.iloc[:,-1:]\n",
    "X_train, X_test, y_train, y_test = train_test_split(X, y, test_size=.3)"
   ]
  },
  {
   "cell_type": "code",
   "execution_count": 5,
   "id": "4aed50c2-93fe-4bbb-bb15-df17a448e43a",
   "metadata": {},
   "outputs": [],
   "source": [
    "nb_model = NaiveBayesClassifier()\n",
    "nb_model.fit(pd.concat([X_train, y_train], axis=1), y_train)"
   ]
  },
  {
   "cell_type": "code",
   "execution_count": 6,
   "id": "f2fddd4c-b042-46b4-8130-a09beede2630",
   "metadata": {},
   "outputs": [],
   "source": [
    "y_pred = nb_model.predict(X_test)"
   ]
  },
  {
   "cell_type": "code",
   "execution_count": 11,
   "id": "3b473595-44b4-418f-a47a-b3e57c4b7717",
   "metadata": {},
   "outputs": [
    {
     "name": "stdout",
     "output_type": "stream",
     "text": [
      "[[14  0  0]\n",
      " [ 0 12  3]\n",
      " [ 0  0 16]]\n",
      "0.9333333333333333\n"
     ]
    }
   ],
   "source": [
    "from sklearn.metrics import accuracy_score, confusion_matrix\n",
    "print(confusion_matrix(y_test, y_pred))\n",
    "print(accuracy_score(y_test, y_pred))"
   ]
  },
  {
   "cell_type": "code",
   "execution_count": null,
   "id": "db5fb7ff-c5dd-4b16-847b-ec99f9c8eee0",
   "metadata": {},
   "outputs": [],
   "source": []
  }
 ],
 "metadata": {
  "kernelspec": {
   "display_name": "Python 3 (ipykernel)",
   "language": "python",
   "name": "python3"
  },
  "language_info": {
   "codemirror_mode": {
    "name": "ipython",
    "version": 3
   },
   "file_extension": ".py",
   "mimetype": "text/x-python",
   "name": "python",
   "nbconvert_exporter": "python",
   "pygments_lexer": "ipython3",
   "version": "3.10.12"
  }
 },
 "nbformat": 4,
 "nbformat_minor": 5
}
